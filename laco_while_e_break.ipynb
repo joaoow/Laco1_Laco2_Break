{
  "nbformat": 4,
  "nbformat_minor": 0,
  "metadata": {
    "colab": {
      "provenance": []
    },
    "kernelspec": {
      "name": "python3",
      "display_name": "Python 3"
    },
    "language_info": {
      "name": "python"
    }
  },
  "cells": [
    {
      "cell_type": "code",
      "execution_count": 6,
      "metadata": {
        "colab": {
          "base_uri": "https://localhost:8080/"
        },
        "id": "2of2RBDf8yGh",
        "outputId": "81dceaad-1120-4d3b-e355-aa1cbdaa22b1"
      },
      "outputs": [
        {
          "output_type": "stream",
          "name": "stdout",
          "text": [
            "Voce está no primeiro laço \n",
            "\n",
            "Voce deseja sair dele?, digite sim para isso\n",
            "nao\n",
            "Voce está no primeiro laço \n",
            "\n",
            "Voce deseja sair dele?, digite sim para isso\n",
            "sim\n",
            "Voce saiu do primeiro laço! \n",
            "\n",
            "Agora voce está no segundo laço \n",
            "\n",
            "Voce deseja sair do segundo laço?, digite sim para isso\n",
            "nao\n",
            "Agora voce está no segundo laço \n",
            "\n",
            "Voce deseja sair do segundo laço?, digite sim para isso\n",
            "sim\n",
            "Show, agora você saiu do segundo laço, até mais!\n"
          ]
        }
      ],
      "source": [
        "while True:\n",
        "  print('Voce está no primeiro laço \\n')\n",
        "  opcao1 = input('Voce deseja sair dele?, digite sim para isso\\n')\n",
        "  if opcao1 == 'sim':\n",
        "   break\n",
        "print('Voce saiu do primeiro laço!\\n' )\n",
        "\n",
        "while True:\n",
        "  print('Agora voce está no segundo laço \\n')\n",
        "  opcao2 = input('Voce deseja sair do segundo laço?, digite sim para isso\\n')\n",
        "  if opcao2 == 'sim':\n",
        "    break\n",
        "print('Show, agora você saiu do segundo laço, até mais!')"
      ]
    }
  ]
}